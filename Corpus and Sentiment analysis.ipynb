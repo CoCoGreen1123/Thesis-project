{
 "cells": [
  {
   "cell_type": "code",
   "execution_count": 8,
   "outputs": [],
   "source": [
    "from nltk.tokenize import word_tokenize\n",
    "from nltk.corpus import stopwords\n",
    "from nltk.corpus import PlaintextCorpusReader\n",
    "from collections import Counter\n",
    "from gensim import corpora, models\n",
    "import pyLDAvis.gensim_models as gensimvis\n",
    "import pyLDAvis\n",
    "from nltk.tokenize import sent_tokenize\n",
    "from nltk.sentiment.vader import SentimentIntensityAnalyzer\n",
    "import matplotlib.pyplot as plt\n"
   ],
   "metadata": {
    "collapsed": false,
    "ExecuteTime": {
     "end_time": "2024-05-30T22:52:28.218437200Z",
     "start_time": "2024-05-30T22:52:28.192014200Z"
    }
   },
   "id": "ec26b66b7b87f0ba"
  },
  {
   "cell_type": "code",
   "execution_count": 9,
   "outputs": [],
   "source": [
    "plt.rcParams['savefig.transparent'] = True"
   ],
   "metadata": {
    "collapsed": false,
    "ExecuteTime": {
     "end_time": "2024-05-30T22:52:29.320007Z",
     "start_time": "2024-05-30T22:52:29.310784500Z"
    }
   },
   "id": "1fd791642082341d"
  },
  {
   "cell_type": "code",
   "execution_count": 10,
   "outputs": [
    {
     "name": "stdout",
     "output_type": "stream",
     "text": [
      "['1909_E_Pound_Exultations.txt', '1909_JG_Fletcher_The_Japanese_Prints.txt', '1912_A Lowell_A Dome of Many-Coloured_Glass.txt', '1912_Canzoni & Ripostes_E_Pound&TE_Hulme.txt', '1913_A Lowell_Sword Blades and Poppy Seed.txt', '1914-DES IMAGISTES.txt', '1915-SOME IMAGIST POETS.txt', '1915_JG_Fletcher_Irradiations.txt', '1915_S_Cannell_Wild Songs.txt', '1916-SOME IMAGIST POETS.txt', '1916_A Lowell_Men_Women_Rose.txt', '1916_E_Pound_Lustra.txt', '1916_H_Doolittle_SeaGarden.txt', '1917-SOME IMAGIST POETS.txt', '1917_R_Aldington.txt', '1919_E_Pound_Exultations.txt', '1921_E_Pound_Three_Portraits_and_Four_Cantos.txt', '1921_H_Doolittle_Hymen.txt', '1922_TS_Eliot_The_Waste_Land.txt', '1924_FM_Ford_Collected_Poems.txt', '1926_E_Pound_Personae.txt', '1930-New Poetry by the Imagists.txt']\n"
     ]
    }
   ],
   "source": [
    "corpus_root = 'Imagist Poets'  # Replace with your actual path\n",
    "file_pattern = r'.*\\.txt'  # Match all files ending in .txt\n",
    "# Create the corpus\n",
    "Imagism_poets_corpus = PlaintextCorpusReader(corpus_root, file_pattern)\n",
    "# Output the list of files in the corpus\n",
    "print(Imagism_poets_corpus.fileids())\n",
    "# Combine the texts from all files in the corpus\n",
    "combined_imagism = ''.join(Imagism_poets_corpus.raw(file_id) for file_id in Imagism_poets_corpus.fileids())"
   ],
   "metadata": {
    "collapsed": false,
    "ExecuteTime": {
     "end_time": "2024-05-30T22:52:29.990435700Z",
     "start_time": "2024-05-30T22:52:29.972219100Z"
    }
   },
   "id": "2ee9d52290241931"
  },
  {
   "cell_type": "code",
   "execution_count": 11,
   "outputs": [
    {
     "name": "stdout",
     "output_type": "stream",
     "text": [
      "The list of Georgian_Poetry:\n",
      "['1911-1912 Georgian_Poetry.txt', '1913-1915_Georgian_Poetry.txt', '1916-1217_Georgian_Poetry.txt', '1918-1919 Georgian_Poetry.txt', '1920-1921 Georgian_Poetry.txt']\n"
     ]
    }
   ],
   "source": [
    "corpus_root = 'Georgian Poetry'  # Replace with your actual path\n",
    "file_pattern = r'.*\\.txt'  # Match all files ending in .txt\n",
    "# Create the corpus\n",
    "Georgian_Poetry_corpus = PlaintextCorpusReader(corpus_root, file_pattern)\n",
    "# Output the list of files in the corpus\n",
    "print(\"The list of Georgian_Poetry:\")\n",
    "print(Georgian_Poetry_corpus.fileids())\n",
    "combined_Georgian = ''.join(Georgian_Poetry_corpus.raw(file_id) for file_id in Georgian_Poetry_corpus.fileids())"
   ],
   "metadata": {
    "collapsed": false,
    "ExecuteTime": {
     "end_time": "2024-05-30T22:52:32.444238900Z",
     "start_time": "2024-05-30T22:52:32.430801Z"
    }
   },
   "id": "755d35c912b5522b"
  },
  {
   "cell_type": "code",
   "execution_count": 12,
   "outputs": [
    {
     "name": "stdout",
     "output_type": "stream",
     "text": [
      "The list of Objective_Poetry:\n",
      "['Basil Bunting.txt', 'CARL RAKOSI.txt', 'Charles Reznikoff.txt', 'Goegen Oppen.txt', 'LOUIS ZUKOFSKY.txt', 'Lorine Niedecker.txt', 'The FEBRUARY 1931.txt', 'WILLIAM CARLOS WILLIAMS.txt', 'other writers.txt']\n"
     ]
    }
   ],
   "source": [
    "corpus_root = 'Objective Poetry'  # Replace with your actual path\n",
    "file_pattern = r'.*\\.txt'  # Match all files ending in .txt\n",
    "# Create the corpus\n",
    "Objective_Poetry_corpus = PlaintextCorpusReader(corpus_root, file_pattern)\n",
    "# Output the list of files in the corpus\n",
    "print(\"The list of Objective_Poetry:\")\n",
    "print(Objective_Poetry_corpus.fileids())\n",
    "combined_Ojective = ''.join(Objective_Poetry_corpus.raw(file_id) for file_id in Objective_Poetry_corpus.fileids())"
   ],
   "metadata": {
    "collapsed": false,
    "ExecuteTime": {
     "end_time": "2024-05-30T22:52:33.219179500Z",
     "start_time": "2024-05-30T22:52:33.187893300Z"
    }
   },
   "id": "8735209f28906673"
  },
  {
   "cell_type": "code",
   "execution_count": 13,
   "outputs": [],
   "source": [
    "def calculate_vocabulary_size(text):\n",
    "    tokens = nltk.word_tokenize(text)\n",
    "    vocabulary = set(tokens)\n",
    "    return len(vocabulary)"
   ],
   "metadata": {
    "collapsed": false,
    "ExecuteTime": {
     "end_time": "2024-05-30T22:52:33.986505400Z",
     "start_time": "2024-05-30T22:52:33.978214200Z"
    }
   },
   "id": "915c75ea7afef4c6"
  },
  {
   "cell_type": "markdown",
   "source": [],
   "metadata": {
    "collapsed": false
   },
   "id": "67625531285fa895"
  },
  {
   "cell_type": "code",
   "execution_count": 14,
   "outputs": [
    {
     "ename": "NameError",
     "evalue": "name 'nltk' is not defined",
     "output_type": "error",
     "traceback": [
      "\u001B[1;31m---------------------------------------------------------------------------\u001B[0m",
      "\u001B[1;31mNameError\u001B[0m                                 Traceback (most recent call last)",
      "Cell \u001B[1;32mIn[14], line 1\u001B[0m\n\u001B[1;32m----> 1\u001B[0m imagism_vocabulary_size \u001B[38;5;241m=\u001B[39m \u001B[43mcalculate_vocabulary_size\u001B[49m\u001B[43m(\u001B[49m\u001B[43mcombined_imagism\u001B[49m\u001B[43m)\u001B[49m\n\u001B[0;32m      2\u001B[0m georgian_vocabulary_size \u001B[38;5;241m=\u001B[39m calculate_vocabulary_size(combined_Georgian)\n\u001B[0;32m      3\u001B[0m objective_vocabulary_size \u001B[38;5;241m=\u001B[39m calculate_vocabulary_size(combined_Ojective)\n",
      "Cell \u001B[1;32mIn[13], line 2\u001B[0m, in \u001B[0;36mcalculate_vocabulary_size\u001B[1;34m(text)\u001B[0m\n\u001B[0;32m      1\u001B[0m \u001B[38;5;28;01mdef\u001B[39;00m \u001B[38;5;21mcalculate_vocabulary_size\u001B[39m(text):\n\u001B[1;32m----> 2\u001B[0m     tokens \u001B[38;5;241m=\u001B[39m \u001B[43mnltk\u001B[49m\u001B[38;5;241m.\u001B[39mword_tokenize(text)\n\u001B[0;32m      3\u001B[0m     vocabulary \u001B[38;5;241m=\u001B[39m \u001B[38;5;28mset\u001B[39m(tokens)\n\u001B[0;32m      4\u001B[0m     \u001B[38;5;28;01mreturn\u001B[39;00m \u001B[38;5;28mlen\u001B[39m(vocabulary)\n",
      "\u001B[1;31mNameError\u001B[0m: name 'nltk' is not defined"
     ]
    }
   ],
   "source": [
    "imagism_vocabulary_size = calculate_vocabulary_size(combined_imagism)\n",
    "georgian_vocabulary_size = calculate_vocabulary_size(combined_Georgian)\n",
    "objective_vocabulary_size = calculate_vocabulary_size(combined_Ojective)"
   ],
   "metadata": {
    "collapsed": false,
    "ExecuteTime": {
     "end_time": "2024-05-30T22:52:36.904692900Z",
     "start_time": "2024-05-30T22:52:36.858952Z"
    }
   },
   "id": "bd7dabe0914f7664"
  },
  {
   "cell_type": "code",
   "execution_count": 15,
   "outputs": [
    {
     "ename": "NameError",
     "evalue": "name 'imagism_vocabulary_size' is not defined",
     "output_type": "error",
     "traceback": [
      "\u001B[1;31m---------------------------------------------------------------------------\u001B[0m",
      "\u001B[1;31mNameError\u001B[0m                                 Traceback (most recent call last)",
      "Cell \u001B[1;32mIn[15], line 1\u001B[0m\n\u001B[1;32m----> 1\u001B[0m \u001B[38;5;28mprint\u001B[39m(\u001B[43mimagism_vocabulary_size\u001B[49m)\n\u001B[0;32m      2\u001B[0m \u001B[38;5;28mprint\u001B[39m(georgian_vocabulary_size)\n\u001B[0;32m      3\u001B[0m \u001B[38;5;28mprint\u001B[39m(objective_vocabulary_size)\n",
      "\u001B[1;31mNameError\u001B[0m: name 'imagism_vocabulary_size' is not defined"
     ]
    }
   ],
   "source": [
    "print(imagism_vocabulary_size)\n",
    "print(georgian_vocabulary_size)\n",
    "print(objective_vocabulary_size)"
   ],
   "metadata": {
    "collapsed": false,
    "ExecuteTime": {
     "end_time": "2024-05-30T22:52:52.051562Z",
     "start_time": "2024-05-30T22:52:52.034687Z"
    }
   },
   "id": "c9a04aa6ca0f2e39"
  },
  {
   "cell_type": "code",
   "execution_count": 16,
   "outputs": [],
   "source": [
    "import nltk\n",
    "from nltk.corpus import stopwords\n",
    "from nltk.stem import WordNetLemmatizer\n",
    "from nltk.sentiment.vader import SentimentIntensityAnalyzer\n",
    "from nltk.tokenize import sent_tokenize, word_tokenize\n",
    "\n",
    "def sentiment_proportions(text, corpus_name):\n",
    "    \"\"\"\n",
    "    Measure the proportions of positive, negative, and neutral words in a single combined text, with lemmatization and stopwords removal, and return the counts and proportions.\n",
    "    :param text: The combined text of the corpus for analysis\n",
    "    :param corpus_name: The name of the corpus (used for labeling in data)\n",
    "    :return: Dictionary with counts and proportions of positive, negative, and neutral words\n",
    "    \"\"\"\n",
    "    analyzer = SentimentIntensityAnalyzer()\n",
    "    lemmatizer = WordNetLemmatizer()\n",
    "    stop_words = set(stopwords.words('english'))\n",
    "\n",
    "    # Variables to store counts of positive, negative, and neutral words\n",
    "    positive_count = 0\n",
    "    negative_count = 0\n",
    "    neutral_count = 0\n",
    "    total_words = 0\n",
    "\n",
    "    # Tokenize the combined text into sentences\n",
    "    sentences = sent_tokenize(text)\n",
    "\n",
    "    for sentence in sentences:\n",
    "        words = word_tokenize(sentence)  # Tokenize sentence into words\n",
    "        filtered_words = [lemmatizer.lemmatize(word.lower()) for word in words if word.lower() not in stop_words and word.isalpha()]\n",
    "\n",
    "        for word in filtered_words:\n",
    "            sentiment = analyzer.polarity_scores(word)\n",
    "            if sentiment['compound'] > 0.05:\n",
    "                positive_count += 1\n",
    "            elif sentiment['compound'] < -0.05:\n",
    "                negative_count += 1\n",
    "            else:\n",
    "                neutral_count += 1\n",
    "\n",
    "    total_words = positive_count + negative_count + neutral_count\n",
    "\n",
    "    # Proportions of positive, negative, and neutral words\n",
    "    positive_proportion = positive_count / total_words if total_words != 0 else 0\n",
    "    negative_proportion = negative_count / total_words if total_words != 0 else 0\n",
    "    neutral_proportion = neutral_count / total_words if total_words != 0 else 0\n",
    "\n",
    "    # Return the data\n",
    "    return {\n",
    "        'corpus_name': corpus_name,\n",
    "        'total_words': total_words,\n",
    "        'positive_count': positive_count,\n",
    "        'positive_proportion': positive_proportion,\n",
    "        'negative_count': negative_count,\n",
    "        'negative_proportion': negative_proportion,\n",
    "        'neutral_count': neutral_count,\n",
    "        'neutral_proportion': neutral_proportion\n",
    "    }\n",
    "\n",
    "# Example usage:\n",
    "# result = sentiment_proportions(combined_Objective, 'Objective Poetry')\n",
    "# print(result)\n"
   ],
   "metadata": {
    "collapsed": false,
    "ExecuteTime": {
     "end_time": "2024-05-30T22:52:52.770736500Z",
     "start_time": "2024-05-30T22:52:52.757195800Z"
    }
   },
   "id": "a22ad8a666a2ae30"
  },
  {
   "cell_type": "code",
   "execution_count": 17,
   "outputs": [
    {
     "data": {
      "text/plain": "{'corpus_name': 'Objective Poetry',\n 'total_words': 70222,\n 'positive_count': 6380,\n 'positive_proportion': 0.09085471789467688,\n 'negative_count': 4703,\n 'negative_proportion': 0.06697331320668737,\n 'neutral_count': 59139,\n 'neutral_proportion': 0.8421719688986358}"
     },
     "execution_count": 17,
     "metadata": {},
     "output_type": "execute_result"
    }
   ],
   "source": [
    "sentiment_proportions(combined_Georgian, 'Objective Poetry')"
   ],
   "metadata": {
    "collapsed": false,
    "ExecuteTime": {
     "end_time": "2024-05-30T22:53:00.884594200Z",
     "start_time": "2024-05-30T22:52:57.128657200Z"
    }
   },
   "id": "12d9194c9f8e9e78"
  },
  {
   "cell_type": "code",
   "execution_count": 18,
   "outputs": [
    {
     "data": {
      "text/plain": "{'corpus_name': 'imagism Poetry',\n 'total_words': 118358,\n 'positive_count': 9743,\n 'positive_proportion': 0.08231805201169334,\n 'negative_count': 7144,\n 'negative_proportion': 0.06035924905794285,\n 'neutral_count': 101471,\n 'neutral_proportion': 0.8573226989303638}"
     },
     "execution_count": 18,
     "metadata": {},
     "output_type": "execute_result"
    }
   ],
   "source": [
    "sentiment_proportions(combined_imagism,'imagism Poetry')"
   ],
   "metadata": {
    "collapsed": false,
    "ExecuteTime": {
     "end_time": "2024-05-30T22:53:09.824443200Z",
     "start_time": "2024-05-30T22:53:05.533117Z"
    }
   },
   "id": "2a8750e44a135bf8"
  },
  {
   "cell_type": "code",
   "execution_count": 19,
   "outputs": [
    {
     "data": {
      "text/plain": "{'corpus_name': 'Objective Poetry',\n 'total_words': 26279,\n 'positive_count': 1885,\n 'positive_proportion': 0.07173027892994406,\n 'negative_count': 1429,\n 'negative_proportion': 0.054378020472620726,\n 'neutral_count': 22965,\n 'neutral_proportion': 0.8738917005974353}"
     },
     "execution_count": 19,
     "metadata": {},
     "output_type": "execute_result"
    }
   ],
   "source": [
    "sentiment_proportions(combined_Ojective, 'Objective Poetry')"
   ],
   "metadata": {
    "collapsed": false,
    "ExecuteTime": {
     "end_time": "2024-05-30T22:53:12.077904Z",
     "start_time": "2024-05-30T22:53:10.781126500Z"
    }
   },
   "id": "c1dcf41953284e43"
  },
  {
   "cell_type": "code",
   "execution_count": 20,
   "outputs": [],
   "source": [
    "def Vader_sentiment_analysis(corpus, corpus_name):\n",
    "    \"\"\"\n",
    "    Perform sentiment analysis on the given corpus and plot a pie chart.\n",
    "    :param corpus: The corpus containing the text for analysis\n",
    "    :param corpus_name: The name of the corpus (used for the chart title)\n",
    "    \"\"\"\n",
    "    analyzer = SentimentIntensityAnalyzer()\n",
    "\n",
    "    # List to store sentiment scores\n",
    "    sentiment_scores = []\n",
    "    positive_scores = []\n",
    "    negative_scores = []\n",
    "\n",
    "    for file_id in corpus.fileids():\n",
    "        raw_text = corpus.raw(file_id)\n",
    "        sentences = sent_tokenize(raw_text)  # Perform sentiment analysis on each sentence\n",
    "\n",
    "        # Accumulate sentiment scores\n",
    "        for sentence in sentences:\n",
    "            sentiment = analyzer.polarity_scores(sentence)\n",
    "            sentiment_scores.append(sentiment['compound'])  # Use 'compound' score, representing overall sentiment\n",
    "\n",
    "            sentiment = analyzer.polarity_scores(sentence)\n",
    "            positive_score = sentiment['pos']\n",
    "            negative_score = sentiment['neg']\n",
    "            positive_scores.append(positive_score)\n",
    "            negative_scores.append(negative_score)\n",
    "\n",
    "    # Calculate the total positive sentiment score for the entire corpus\n",
    "    total_positive_score = sum(positive_scores)\n",
    "    total_negative_score = sum(negative_scores)\n",
    "\n",
    "    # Calculate average positive and negative sentiment scores per sentence\n",
    "    average_positive_score = total_positive_score / len(positive_scores)\n",
    "    average_negative_score = total_negative_score / len(negative_scores)\n",
    "\n",
    "    # Count the sentiment scores\n",
    "    positive_count = sum(1 for score in sentiment_scores if score > 0)\n",
    "    neutral_count = sum(1 for score in sentiment_scores if score == 0)\n",
    "    negative_count = sum(1 for score in sentiment_scores if score < 0)\n",
    "\n",
    "    print(\"Average Positive Score per Sentence:\", average_positive_score)\n",
    "    print(\"Average Negative Score per Sentence:\", average_negative_score)\n",
    "\n",
    "    # Create a pie chart\n",
    "    labels = ['Positive', 'Neutral', 'Negative']\n",
    "    sizes = [positive_count, neutral_count, negative_count]\n",
    "    colors = ['blue', 'yellow', 'red']\n",
    "\n",
    "    plt.pie(sizes, labels=labels, colors=colors, autopct='%1.1f%%', startangle=140)\n",
    "    plt.axis('equal')  # Ensure the pie chart is circular\n",
    "    plt.title(f\"Sentiment Analysis for {corpus_name} Corpus\")\n",
    "    plt.show()"
   ],
   "metadata": {
    "collapsed": false,
    "ExecuteTime": {
     "end_time": "2024-05-30T22:53:14.557954600Z",
     "start_time": "2024-05-30T22:53:14.545661Z"
    }
   },
   "id": "59d07d8eeaa03100"
  },
  {
   "cell_type": "code",
   "execution_count": 21,
   "outputs": [
    {
     "name": "stdout",
     "output_type": "stream",
     "text": [
      "Average Positive Score per Sentence: 0.08705333333333329\n",
      "Average Negative Score per Sentence: 0.06979786096256702\n"
     ]
    },
    {
     "data": {
      "text/plain": "<Figure size 640x480 with 1 Axes>",
      "image/png": "[encoded data removed]"
     },
     "metadata": {},
     "output_type": "display_data"
    },
    {
     "name": "stdout",
     "output_type": "stream",
     "text": [
      "Average Positive Score per Sentence: 0.09959009089288874\n",
      "Average Negative Score per Sentence: 0.0849051862413117\n"
     ]
    },
    {
     "data": {
      "text/plain": "<Figure size 640x480 with 1 Axes>",
      "image/png": "[encoded data removed]"
     },
     "metadata": {},
     "output_type": "display_data"
    },
    {
     "name": "stdout",
     "output_type": "stream",
     "text": [
      "Average Positive Score per Sentence: 0.07486119186046504\n",
      "Average Negative Score per Sentence: 0.06883611918604646\n"
     ]
    },
    {
     "data": {
      "text/plain": "<Figure size 640x480 with 1 Axes>",
      "image/png": "[encoded data removed]"
     },
     "metadata": {},
     "output_type": "display_data"
    }
   ],
   "source": [
    "Vader_sentiment_analysis(Imagism_poets_corpus, \"Imagisim Poetry\")\n",
    "Vader_sentiment_analysis(Georgian_Poetry_corpus, \"Georgian Poetry\")\n",
    "Vader_sentiment_analysis(Objective_Poetry_corpus, \"Objective_Poetry_corpus\")"
   ],
   "metadata": {
    "collapsed": false,
    "ExecuteTime": {
     "end_time": "2024-05-30T22:53:23.710374600Z",
     "start_time": "2024-05-30T22:53:16.385197100Z"
    }
   },
   "id": "edde83ff0ab425aa"
  },
  {
   "cell_type": "code",
   "execution_count": 21,
   "outputs": [],
   "source": [],
   "metadata": {
    "collapsed": false,
    "ExecuteTime": {
     "end_time": "2024-05-30T22:53:25.790241600Z",
     "start_time": "2024-05-30T22:53:25.781127600Z"
    }
   },
   "id": "3ee88c787ecb4f4b"
  },
  {
   "cell_type": "code",
   "execution_count": 22,
   "outputs": [
    {
     "ename": "NameError",
     "evalue": "name 'np' is not defined",
     "output_type": "error",
     "traceback": [
      "\u001B[1;31m---------------------------------------------------------------------------\u001B[0m",
      "\u001B[1;31mNameError\u001B[0m                                 Traceback (most recent call last)",
      "Cell \u001B[1;32mIn[22], line 5\u001B[0m\n\u001B[0;32m      2\u001B[0m emotional_proportions \u001B[38;5;241m=\u001B[39m [\u001B[38;5;241m15.7\u001B[39m, \u001B[38;5;241m14.2\u001B[39m, \u001B[38;5;241m12.6\u001B[39m]  \u001B[38;5;66;03m# Emotional = Positive + Negative\u001B[39;00m\n\u001B[0;32m      3\u001B[0m neutral_proportions \u001B[38;5;241m=\u001B[39m [\u001B[38;5;241m83.3\u001B[39m, \u001B[38;5;241m85.8\u001B[39m, \u001B[38;5;241m87.5\u001B[39m]  \u001B[38;5;66;03m# Neutral word proportions\u001B[39;00m\n\u001B[1;32m----> 5\u001B[0m x \u001B[38;5;241m=\u001B[39m \u001B[43mnp\u001B[49m\u001B[38;5;241m.\u001B[39marange(\u001B[38;5;28mlen\u001B[39m(titles))  \u001B[38;5;66;03m# the label locations\u001B[39;00m\n\u001B[0;32m      6\u001B[0m width \u001B[38;5;241m=\u001B[39m \u001B[38;5;241m0.35\u001B[39m  \u001B[38;5;66;03m# the width of the bars\u001B[39;00m\n\u001B[0;32m      8\u001B[0m fig, ax \u001B[38;5;241m=\u001B[39m plt\u001B[38;5;241m.\u001B[39msubplots(figsize\u001B[38;5;241m=\u001B[39m(\u001B[38;5;241m10\u001B[39m, \u001B[38;5;241m6\u001B[39m))\n",
      "\u001B[1;31mNameError\u001B[0m: name 'np' is not defined"
     ]
    }
   ],
   "source": [
    "titles = ['Georgian Poetry', 'Imagism Poetry', 'Objectivism Poetry']\n",
    "emotional_proportions = [15.7, 14.2, 12.6]  # Emotional = Positive + Negative\n",
    "neutral_proportions = [83.3, 85.8, 87.5]  # Neutral word proportions\n",
    "\n",
    "x = np.arange(len(titles))  # the label locations\n",
    "width = 0.35  # the width of the bars\n",
    "\n",
    "fig, ax = plt.subplots(figsize=(10, 6))\n",
    "\n",
    "# Colors and embossed effect settings\n",
    "emotional_color = '#ff6666'  # Soft red\n",
    "neutral_color = '#cccccc'  # Grey\n",
    "edge_color = '#404040'  # Darker outline for embossed effect\n",
    "\n",
    "# Creating the bars for emotional and neutral data\n",
    "rects1 = ax.bar(x - width/2, emotional_proportions, width, label='Emotional', color=emotional_color, edgecolor=edge_color, linewidth=1, zorder=3)\n",
    "rects2 = ax.bar(x + width/2, neutral_proportions, width, label='Neutral', color=neutral_color, edgecolor=edge_color, linewidth=1, zorder=3)\n",
    "\n",
    "# Adding shadows for an embossed effect\n",
    "for rect in rects1 + rects2:\n",
    "    ax.bar(rect.get_x(), rect.get_height(), width, color='none', edgecolor='white', lw=0.5, zorder=4)\n",
    "\n",
    "# Adding labels, title, and custom x-axis tick labels, etc.\n",
    "ax.set_xlabel('Dataset')\n",
    "ax.set_ylabel('Proportions (%)')\n",
    "ax.set_title('Proportions of Emotional vs Neutral Words Among 3 datasets of poetry')\n",
    "ax.set_xticks(x)\n",
    "ax.set_xticklabels(titles)\n",
    "ax.legend()\n",
    "\n",
    "# Function to attach a label above each bar\n",
    "def autolabel(rects):\n",
    "    for rect in rects:\n",
    "        height = rect.get_height()\n",
    "        ax.annotate('%.1f%%' % height,\n",
    "                    xy=(rect.get_x() + rect.get_width() / 2, height),\n",
    "                    xytext=(0, 3),  # 3 points vertical offset\n",
    "                    textcoords=\"offset points\",\n",
    "                    ha='center', va='bottom', color='black')\n",
    "\n",
    "autolabel(rects1)\n",
    "autolabel(rects2)\n",
    "\n",
    "fig.tight_layout()\n",
    "plt.show()"
   ],
   "metadata": {
    "collapsed": false,
    "ExecuteTime": {
     "end_time": "2024-05-30T22:53:26.638939700Z",
     "start_time": "2024-05-30T22:53:26.603319Z"
    }
   },
   "id": "943ab3888b9f6a5c"
  },
  {
   "cell_type": "code",
   "execution_count": 23,
   "outputs": [
    {
     "ename": "NameError",
     "evalue": "name 'np' is not defined",
     "output_type": "error",
     "traceback": [
      "\u001B[1;31m---------------------------------------------------------------------------\u001B[0m",
      "\u001B[1;31mNameError\u001B[0m                                 Traceback (most recent call last)",
      "Cell \u001B[1;32mIn[23], line 5\u001B[0m\n\u001B[0;32m      2\u001B[0m emotional_proportions \u001B[38;5;241m=\u001B[39m [\u001B[38;5;241m67.5\u001B[39m, \u001B[38;5;241m56.3\u001B[39m, \u001B[38;5;241m47.9\u001B[39m]  \u001B[38;5;66;03m# Emotional = Positive + Negative\u001B[39;00m\n\u001B[0;32m      3\u001B[0m neutral_proportions \u001B[38;5;241m=\u001B[39m [\u001B[38;5;241m32.5\u001B[39m, \u001B[38;5;241m43.7\u001B[39m, \u001B[38;5;241m52.1\u001B[39m]  \u001B[38;5;66;03m# Neutral word proportions\u001B[39;00m\n\u001B[1;32m----> 5\u001B[0m x \u001B[38;5;241m=\u001B[39m \u001B[43mnp\u001B[49m\u001B[38;5;241m.\u001B[39marange(\u001B[38;5;28mlen\u001B[39m(titles))  \u001B[38;5;66;03m# the label locations\u001B[39;00m\n\u001B[0;32m      6\u001B[0m width \u001B[38;5;241m=\u001B[39m \u001B[38;5;241m0.35\u001B[39m  \u001B[38;5;66;03m# the width of the bars\u001B[39;00m\n\u001B[0;32m      8\u001B[0m fig, ax \u001B[38;5;241m=\u001B[39m plt\u001B[38;5;241m.\u001B[39msubplots(figsize\u001B[38;5;241m=\u001B[39m(\u001B[38;5;241m10\u001B[39m, \u001B[38;5;241m6\u001B[39m))\n",
      "\u001B[1;31mNameError\u001B[0m: name 'np' is not defined"
     ]
    }
   ],
   "source": [
    "titles = ['Georgian Poetry', 'Imagism Poetry', 'Objectivism Poetry']\n",
    "emotional_proportions = [67.5, 56.3, 47.9]  # Emotional = Positive + Negative\n",
    "neutral_proportions = [32.5, 43.7, 52.1]  # Neutral word proportions\n",
    "\n",
    "x = np.arange(len(titles))  # the label locations\n",
    "width = 0.35  # the width of the bars\n",
    "\n",
    "fig, ax = plt.subplots(figsize=(10, 6))\n",
    "\n",
    "# Colors and embossed effect settings\n",
    "emotional_color = '#ff6666'  # Soft red\n",
    "neutral_color = '#cccccc'  # Grey\n",
    "edge_color = '#404040'  # Darker outline for embossed effect\n",
    "\n",
    "# Creating the bars for emotional and neutral data\n",
    "rects1 = ax.bar(x - width / 2, emotional_proportions, width, label='Emotional', color=emotional_color,\n",
    "                edgecolor=edge_color, linewidth=1, zorder=3)\n",
    "rects2 = ax.bar(x + width / 2, neutral_proportions, width, label='Neutral', color=neutral_color, edgecolor=edge_color,\n",
    "                linewidth=1, zorder=3)\n",
    "\n",
    "# Adding shadows for an embossed effect\n",
    "for rect in rects1 + rects2:\n",
    "    ax.bar(rect.get_x(), rect.get_height(), width, color='none', edgecolor='white', lw=0.5, zorder=4)\n",
    "\n",
    "# Adding labels, title, and custom x-axis tick labels, etc.\n",
    "ax.set_xlabel('Dataset')\n",
    "ax.set_ylabel('Proportions (%)')\n",
    "ax.set_title('Proportions of Emotional vs Neutral Sentences Among 3 datasets of poetry')\n",
    "ax.set_xticks(x)\n",
    "ax.set_xticklabels(titles)\n",
    "ax.legend()\n",
    "\n",
    "\n",
    "# Function to attach a label above each bar\n",
    "def autolabel(rects):\n",
    "    for rect in rects:\n",
    "        height = rect.get_height()\n",
    "        ax.annotate('%.1f%%' % height,\n",
    "                    xy=(rect.get_x() + rect.get_width() / 2, height),\n",
    "                    xytext=(0, 3),  # 3 points vertical offset\n",
    "                    textcoords=\"offset points\",\n",
    "                    ha='center', va='bottom', color='black')\n",
    "\n",
    "\n",
    "autolabel(rects1)\n",
    "autolabel(rects2)\n",
    "\n",
    "fig.tight_layout()\n",
    "plt.show()"
   ],
   "metadata": {
    "collapsed": false,
    "ExecuteTime": {
     "end_time": "2024-05-30T22:53:27.741877200Z",
     "start_time": "2024-05-30T22:53:27.657430800Z"
    }
   },
   "id": "e5f992e97a27bb7e"
  },
  {
   "cell_type": "markdown",
   "source": [
    "情绪词典："
   ],
   "metadata": {
    "collapsed": false
   },
   "id": "150f6d7038cd0058"
  },
  {
   "cell_type": "code",
   "execution_count": null,
   "outputs": [],
   "source": [
    "from nrclex import NRCLex\n",
    "\n",
    "\n",
    "def analyze_corpus_emotion_intensity(text):\n",
    "    \"\"\"\n",
    "    Analyze the emotional intensity of a given combined text.\n",
    "    :param combined_text: The combined text of a corpus\n",
    "    :return: Dictionary of emotion frequencies\n",
    "    \"\"\"\n",
    "    emotion_analyzer = NRCLex(text)\n",
    "    return emotion_analyzer.affect_frequencies"
   ],
   "metadata": {
    "collapsed": false,
    "ExecuteTime": {
     "start_time": "2024-05-30T22:18:48.703146500Z"
    }
   },
   "id": "7bd27b564b024d24"
  },
  {
   "cell_type": "code",
   "execution_count": null,
   "outputs": [],
   "source": [
    "georgian_emotions_frequencies=analyze_corpus_emotion_intensity(combined_Georgian)\n",
    "print(georgian_emotions_frequencies)"
   ],
   "metadata": {
    "collapsed": false,
    "ExecuteTime": {
     "start_time": "2024-05-30T22:18:48.706217700Z"
    }
   },
   "id": "272f77f40ceb283a"
  },
  {
   "cell_type": "code",
   "execution_count": null,
   "outputs": [],
   "source": [
    "imagism_emotions_frequencies=analyze_corpus_emotion_intensity(combined_imagism)\n",
    "print(imagism_emotions_frequencies)"
   ],
   "metadata": {
    "collapsed": false,
    "ExecuteTime": {
     "start_time": "2024-05-30T22:18:48.709669600Z"
    }
   },
   "id": "582cd75bffac8b5"
  },
  {
   "cell_type": "code",
   "execution_count": null,
   "outputs": [],
   "source": [
    "objective_emotions_frequencies=analyze_corpus_emotion_intensity(combined_Ojective)\n",
    "print(objective_emotions_frequencies)"
   ],
   "metadata": {
    "collapsed": false,
    "ExecuteTime": {
     "start_time": "2024-05-30T22:18:48.713421300Z"
    }
   },
   "id": "cae2203addae3fb3"
  },
  {
   "cell_type": "code",
   "execution_count": null,
   "outputs": [],
   "source": [
    "import matplotlib.pyplot as plt\n",
    "\n",
    "def plot_emotion_intensities_line_chart(imagism_data, georgian_data, objective_data):\n",
    "    \"\"\"\n",
    "    Plot a line chart of emotion intensities for three corpora, excluding \"negative\" and \"positive\" labels.\n",
    "    \n",
    "    Parameters:\n",
    "    imagism_data, georgian_data, objective_data (dict): Emotion frequency data for each corpus.\n",
    "    \"\"\"\n",
    "    # Get all emotion labels except \"negative\" and \"positive\"\n",
    "    emotions = sorted(set(imagism_data.keys()).union(georgian_data.keys(), objective_data.keys()) - {'negative', 'positive','anticip'})\n",
    "\n",
    "    # Create data points for each emotion\n",
    "    imagism_values = [imagism_data.get(emotion, 0) for emotion in emotions]\n",
    "    georgian_values = [georgian_data.get(emotion, 0) for emotion in emotions]\n",
    "    objective_values = [objective_data.get(emotion, 0) for emotion in emotions]\n",
    "\n",
    "    # Create the line chart\n",
    "    plt.figure(figsize=(14, 8))\n",
    "    plt.plot(emotions, imagism_values, marker='o', linestyle='--', color='#ff7f0e', label='Georgian', linewidth=3)  # orange, dashed line\n",
    "    plt.plot(emotions, georgian_values, marker='o', linestyle='-.', color='#1f77b4', label='Imagism', linewidth=3)  # blue, dash-dot line\n",
    "    plt.plot(emotions, objective_values, marker='o', linestyle='-', color='#2ca02c', label='Objectivism', linewidth=3)  # green, solid line\n",
    "\n",
    "    # Add labels and title\n",
    "    plt.xlabel('Emotions', fontsize=16)\n",
    "    plt.ylabel('Frequencies', fontsize=16)\n",
    "    plt.title('Affects Frequencies across 3 Poetry datasets', fontsize=18)\n",
    "    plt.xticks(rotation=45, fontsize=16)  # Larger font size for emotion labels\n",
    "    plt.yticks(fontsize=14)\n",
    "    plt.xticks(rotation=45)\n",
    "\n",
    "    # Add legend with larger font size\n",
    "    plt.legend(fontsize=16)\n",
    "\n",
    "    # Display the plot\n",
    "    plt.grid(True)\n",
    "    plt.show()\n"
   ],
   "metadata": {
    "collapsed": false,
    "ExecuteTime": {
     "start_time": "2024-05-30T22:18:48.716825Z"
    }
   },
   "id": "8bb590fa04aa222f"
  },
  {
   "cell_type": "code",
   "execution_count": null,
   "outputs": [],
   "source": [
    "# 使用函数绘图\n",
    "plot_emotion_intensities_line_chart(georgian_emotions_frequencies, imagism_emotions_frequencies, objective_emotions_frequencies)"
   ],
   "metadata": {
    "collapsed": false,
    "ExecuteTime": {
     "start_time": "2024-05-30T22:18:48.719847900Z"
    }
   },
   "id": "e4a1273b80cf1d83"
  },
  {
   "cell_type": "code",
   "execution_count": null,
   "outputs": [],
   "source": [
    "def extract_emotion_words(text):\n",
    "    \"\"\"\n",
    "    分析文本，返回与各种情绪相关的词汇。\n",
    "    :param combined_text: 要分析的合并后的文本。\n",
    "    :return: 一个字典，键为情绪，值为相关的词汇列表。\n",
    "    \"\"\"\n",
    "    emotion_analyzer = NRCLex(text)  # 修改变量名以避免冲突\n",
    "    emotion_words = {}\n",
    "\n",
    "    # 注意修改了循环中的变量名，使其更清晰\n",
    "    for word, emotion_list in emotion_analyzer.affect_dict.items():\n",
    "        for emotion in emotion_list:\n",
    "            if emotion not in emotion_words:\n",
    "                emotion_words[emotion] = [word]\n",
    "            else:\n",
    "                emotion_words[emotion].append(word)\n",
    "\n",
    "    return emotion_words"
   ],
   "metadata": {
    "collapsed": false,
    "ExecuteTime": {
     "start_time": "2024-05-30T22:18:48.721869Z"
    }
   },
   "id": "d366328511039081"
  },
  {
   "cell_type": "code",
   "execution_count": null,
   "outputs": [],
   "source": [
    "import pandas as pd\n",
    "from nrclex import NRCLex\n",
    "\n",
    "def load_emotion_intensity_lexicon(file_path):\n",
    "    \"\"\"从文件中加载情绪强烈度字典，返回一个字典，包含单词、情绪和对应的强度。\"\"\"\n",
    "    lexicon = pd.read_csv(file_path, sep='\\t', names=['word', 'emotion', 'intensity'])\n",
    "    lexicon_dict = {(row['word'], row['emotion']): row['intensity'] for index, row in lexicon.iterrows()}\n",
    "    return lexicon_dict\n",
    "\n",
    "def extract_emotion_words(text, lexicon):\n",
    "    \"\"\"分析文本，返回与各种情绪相关的词汇的加权总得分，排除'positive', 'negative'和'anticip'情绪。\"\"\"\n",
    "    emotion_analyzer = NRCLex(text)\n",
    "    emotion_frequencies = emotion_analyzer.affect_frequencies\n",
    "    \n",
    "    excluded_emotions = ['positive', 'negative', 'anticip']\n",
    "    emotion_scores = {emotion: 0 for emotion in emotion_frequencies if emotion not in excluded_emotions}\n",
    "\n",
    "    # 遍历每个词和相关的情绪列表\n",
    "    for word, emotions in emotion_analyzer.affect_dict.items():\n",
    "        for emotion in emotions:\n",
    "            if emotion not in excluded_emotions and (word, emotion) in lexicon:\n",
    "                # 使用情绪频率乘以情绪强度得分\n",
    "                emotion_scores[emotion] += emotion_frequencies[emotion] * lexicon[(word, emotion)]\n",
    "    \n",
    "    return emotion_scores\n",
    "\n",
    "# 文件路径，请替换成你的实际文件路径\n",
    "file_path = 'NRC-Emotion-Intensity-Lexicon-v1.txt'\n",
    "lexicon = load_emotion_intensity_lexicon(file_path)\n",
    "\n"
   ],
   "metadata": {
    "collapsed": false,
    "ExecuteTime": {
     "end_time": "2024-05-30T22:18:48.793030700Z",
     "start_time": "2024-05-30T22:18:48.723893200Z"
    }
   },
   "id": "49f241fd7406e1df"
  },
  {
   "cell_type": "code",
   "execution_count": null,
   "outputs": [],
   "source": [
    "average_intensity_Georgian=extract_emotion_words(combined_Georgian,lexicon)\n",
    "print(average_intensity_Georgian)"
   ],
   "metadata": {
    "collapsed": false,
    "ExecuteTime": {
     "start_time": "2024-05-30T22:18:48.726894100Z"
    }
   },
   "id": "cc225b0e2a04c469"
  },
  {
   "cell_type": "code",
   "execution_count": null,
   "outputs": [],
   "source": [
    "average_intensity_imagism=extract_emotion_words(combined_imagism,lexicon)\n",
    "print(average_intensity_imagism)"
   ],
   "metadata": {
    "collapsed": false,
    "ExecuteTime": {
     "start_time": "2024-05-30T22:18:48.730895600Z"
    }
   },
   "id": "cd08325e4a1672ba"
  },
  {
   "cell_type": "code",
   "execution_count": null,
   "outputs": [],
   "source": [
    "average_intensity_Objective=extract_emotion_words(combined_Ojective,lexicon)\n",
    "print(average_intensity_Objective)"
   ],
   "metadata": {
    "collapsed": false,
    "ExecuteTime": {
     "start_time": "2024-05-30T22:18:48.732275200Z"
    }
   },
   "id": "3e994dca7ee15999"
  },
  {
   "cell_type": "code",
   "execution_count": null,
   "outputs": [],
   "source": [
    "import numpy as np\n",
    "import matplotlib.pyplot as plt\n",
    "\n",
    "def plot_emotion_wheel(emotions):\n",
    "    # 设置花瓣颜色，可以自定义为任何你喜欢的颜色\n",
    "    colors = {\n",
    "        'joy': '#ffffb3',  # 更亮的黄色\n",
    "        'trust': '#00b359',  # 亮绿色\n",
    "        'fear': '#b3ffb3',  # 亮浅绿色\n",
    "        'surprise': '#99ccff',  # 亮浅蓝色\n",
    "        'sadness': '#4d88ff',  # 亮深蓝色\n",
    "        'disgust': '#cc99ff',  # 亮紫色\n",
    "        'anger': '#ff9999',  # 亮红色\n",
    "        'anticipation': '#ffcc98'  # 亮橙色\n",
    "    }\n",
    "\n",
    "    # 计算每个花瓣的角度\n",
    "    N = len(emotions)\n",
    "    theta = np.linspace(0.0, 2 * np.pi, N, endpoint=False)\n",
    "    \n",
    "    # 创建极坐标图\n",
    "    fig, ax = plt.subplots(subplot_kw={'projection': 'polar'})\n",
    "    ax.set_ylim(0, 30)  # 设置极坐标的半径范围为0到1\n",
    "\n",
    "    # 绘制每个情绪的花瓣\n",
    "    bars = ax.bar(theta, list(emotions.values()), width=2*np.pi/N, bottom=0.0, \n",
    "                  color=[colors[emotion] for emotion in emotions.keys()], alpha=0.75, edgecolor='black')\n",
    "    \n",
    "    # 设置花瓣标签\n",
    "    ax.set_xticks(theta)\n",
    "    ax.set_xticklabels(emotions.keys())\n",
    "    ax.set_yticklabels([])  # 隐藏半径的标签\n",
    "    ax.grid(True, linestyle='--', linewidth=0.5, color='grey', alpha=0.5)\n",
    "    ax.set_xticklabels(emotions.keys(), fontweight='bold', fontsize=14)  # 加粗并放大标签\n",
    "    \n",
    "    # 在每个花瓣上标注数值\n",
    "    for bar, value in zip(bars, emotions.values()):\n",
    "        angle = bar.get_x() + bar.get_width() / 2\n",
    "        distance = bar.get_height() + 0.05\n",
    "        ax.text(angle, distance, f'{value:.2f}', ha='center', va='bottom', \n",
    "                fontsize=10, color='black', rotation=angle * 180 / np.pi + 90)\n",
    "\n",
    "    plt.show()"
   ],
   "metadata": {
    "collapsed": false,
    "ExecuteTime": {
     "start_time": "2024-05-30T22:18:48.734292600Z"
    }
   },
   "id": "d31359d3b3bf8de2"
  },
  {
   "cell_type": "code",
   "execution_count": null,
   "outputs": [],
   "source": [
    "plot_emotion_wheel(average_intensity_Georgian)"
   ],
   "metadata": {
    "collapsed": false,
    "ExecuteTime": {
     "start_time": "2024-05-30T22:18:48.737399200Z"
    }
   },
   "id": "142023c34551e3a0"
  },
  {
   "cell_type": "code",
   "execution_count": null,
   "outputs": [],
   "source": [
    "plot_emotion_wheel(average_intensity_imagism)"
   ],
   "metadata": {
    "collapsed": false,
    "ExecuteTime": {
     "start_time": "2024-05-30T22:18:48.739412800Z"
    }
   },
   "id": "3a4fbc100d8bc17f"
  },
  {
   "cell_type": "code",
   "execution_count": null,
   "outputs": [],
   "source": [
    "plot_emotion_wheel(average_intensity_Objective)"
   ],
   "metadata": {
    "collapsed": false,
    "ExecuteTime": {
     "start_time": "2024-05-30T22:18:48.741487800Z"
    }
   },
   "id": "4b39111d9df32f83"
  },
  {
   "cell_type": "code",
   "execution_count": null,
   "outputs": [],
   "source": [
    "def extract_trust_words(text, lexicon):\n",
    "    \"\"\"分析文本，返回与'trust'情绪相关的词汇及其得分。\"\"\"\n",
    "    emotion_analyzer = NRCLex(text)\n",
    "    trust_words = {}\n",
    "    \n",
    "    # 遍历每个词和相关的情绪列表\n",
    "    for word, emotions in emotion_analyzer.affect_dict.items():\n",
    "        if 'trust' in emotions and (word, 'trust') in lexicon:\n",
    "            trust_words[word] = lexicon[(word, 'trust')]\n",
    "    \n",
    "    return trust_words"
   ],
   "metadata": {
    "collapsed": false,
    "ExecuteTime": {
     "start_time": "2024-05-30T22:18:48.742501800Z"
    }
   },
   "id": "35a506b99b2c69bc"
  },
  {
   "cell_type": "code",
   "execution_count": null,
   "outputs": [],
   "source": [
    "trust_words = extract_trust_words(combined_Ojective, lexicon)\n",
    "\n",
    "# 打印与'trust'相关的词汇及其得分\n",
    "sorted_trust_words = sorted(trust_words.items(), key=lambda item: item[1], reverse=True)\n",
    "top_50_trust_words = sorted_trust_words[:50]\n",
    "\n",
    "# 打印得分最高的前50个与'trust'相关的词汇及其得分\n",
    "print(\"Top 50 words associated with 'trust' and their scores:\")\n",
    "for word, score in top_50_trust_words:\n",
    "    print(f\"{word}: {score}\")"
   ],
   "metadata": {
    "collapsed": false,
    "ExecuteTime": {
     "start_time": "2024-05-30T22:18:48.746062400Z"
    }
   },
   "id": "eb8e3c3177af55ec"
  },
  {
   "cell_type": "code",
   "execution_count": null,
   "outputs": [],
   "source": [
    "import matplotlib.pyplot as plt\n",
    "import numpy as np\n",
    "\n",
    "# 示例数据\n",
    "words, scores = zip(*top_50_trust_words)\n",
    "\n",
    "# 设置图形大小和透明背景\n",
    "plt.figure(figsize=(10, 8), facecolor='none')\n",
    "\n",
    "# 计算条形的位置\n",
    "y_pos = np.arange(len(words))\n",
    "\n",
    "# 绘制条形图，增加条形之间的间距\n",
    "bar_width = 0.4\n",
    "plt.barh(y_pos, scores, color='grey', height=bar_width)\n",
    "\n",
    "# 添加标签和标题\n",
    "plt.xlabel('Trust Score')\n",
    "plt.title('Top 50 Words Associated with Trust and Their Scores')\n",
    "\n",
    "# 反转Y轴，使得最高得分在最上方\n",
    "plt.gca().invert_yaxis()\n",
    "\n",
    "# 设置图表背景透明\n",
    "plt.gca().patch.set_alpha(0)\n",
    "plt.gcf().patch.set_alpha(0)\n",
    "\n",
    "# 设置Y轴刻度和标签\n",
    "plt.yticks(y_pos + bar_width / 2, words)\n",
    "\n",
    "# 显示图表\n",
    "plt.show()\n"
   ],
   "metadata": {
    "collapsed": false,
    "ExecuteTime": {
     "start_time": "2024-05-30T22:18:48.747408600Z"
    }
   },
   "id": "a3c0438960cbcfa1"
  },
  {
   "cell_type": "code",
   "execution_count": null,
   "outputs": [],
   "source": [
    "# Combine text from all three corpora\n",
    "combined_text = combined_imagism + combined_Georgian + combined_Ojective"
   ],
   "metadata": {
    "collapsed": false,
    "ExecuteTime": {
     "start_time": "2024-05-30T22:18:48.750427700Z"
    }
   },
   "id": "d10c9bcaea6a85e0"
  },
  {
   "cell_type": "code",
   "execution_count": null,
   "outputs": [],
   "source": [
    "import nltk\n",
    "from nltk.corpus import stopwords\n",
    "from nltk.tokenize import word_tokenize\n",
    "from nltk.stem import WordNetLemmatizer\n",
    "import string\n",
    "\n",
    "# Initialize WordNetLemmatizer and set of English stopwords\n",
    "lemmatizer = WordNetLemmatizer()\n",
    "stop_words = set(stopwords.words('english'))\n",
    "\n",
    "# Function to preprocess text\n",
    "def preprocess_text(text):\n",
    "    # Convert text to lowercase\n",
    "    text = text.lower()\n",
    "    # Remove punctuation\n",
    "    text = text.translate(str.maketrans('', '', string.punctuation))\n",
    "    # Tokenize text\n",
    "    tokens = word_tokenize(text)\n",
    "    # Remove stopwords and lemmatize tokens\n",
    "    tokens = [lemmatizer.lemmatize(token) for token in tokens if token not in stop_words]\n",
    "    return tokens\n",
    "\n",
    "# Preprocess text for each corpus\n",
    "processed_imagism = preprocess_text(combined_imagism)\n",
    "processed_georgian = preprocess_text(combined_Georgian)\n",
    "processed_objective = preprocess_text(combined_Ojective)\n",
    "\n",
    "\n"
   ],
   "metadata": {
    "collapsed": false,
    "ExecuteTime": {
     "start_time": "2024-05-30T22:18:48.752436100Z"
    }
   },
   "id": "3bf730d048ef81c1"
  },
  {
   "cell_type": "code",
   "execution_count": null,
   "outputs": [],
   "source": [
    "import numpy as np\n",
    "import matplotlib.pyplot as plt\n",
    "\n",
    "titles = ['Georgian Poetry', 'Imagism Poetry', 'Objectivism Poetry']\n",
    "emotional_proportions = [15.7, 14.2, 12.6]  # Emotional = Positive + Negative\n",
    "neutral_proportions = [83.3, 85.8, 87.5]  # Neutral word proportions\n",
    "\n",
    "x = np.arange(len(titles))  # the label locations\n",
    "width = 0.35  # the width of the bars\n",
    "\n",
    "fig, ax = plt.subplots(figsize=(10, 6))\n",
    "\n",
    "# Colors and embossed effect settings\n",
    "emotional_color = '#ff6666'  # Soft red\n",
    "neutral_color = '#cccccc'  # Grey\n",
    "edge_color = '#404040'  # Darker outline for embossed effect\n",
    "\n",
    "# Creating the bars for emotional and neutral data\n",
    "rects1 = ax.bar(x - width/2, emotional_proportions, width, label='Emotional', color=emotional_color, edgecolor=edge_color, linewidth=1, zorder=3)\n",
    "rects2 = ax.bar(x + width/2, neutral_proportions, width, label='Neutral', color=neutral_color, edgecolor=edge_color, linewidth=1, zorder=3)\n",
    "\n",
    "# Adding shadows for an embossed effect\n",
    "for rect in rects1 + rects2:\n",
    "    ax.bar(rect.get_x(), rect.get_height(), width, color='none', edgecolor='white', lw=0.5, zorder=4)\n",
    "\n",
    "# Adding labels, title, and custom x-axis tick labels, etc.\n",
    "ax.set_xlabel('Dataset')\n",
    "ax.set_ylabel('Proportions (%)')\n",
    "ax.set_title('Proportions of Emotional vs Neutral Words Among 3 datasets of poetry')\n",
    "ax.set_xticks(x)\n",
    "ax.set_xticklabels(titles)\n",
    "ax.legend()\n",
    "\n",
    "# Function to attach a label above each bar\n",
    "def autolabel(rects):\n",
    "    for rect in rects:\n",
    "        height = rect.get_height()\n",
    "        ax.annotate('%.1f%%' % height,\n",
    "                    xy=(rect.get_x() + rect.get_width() / 2, height),\n",
    "                    xytext=(0, 3),  # 3 points vertical offset\n",
    "                    textcoords=\"offset points\",\n",
    "                    ha='center', va='bottom', color='black')\n",
    "\n",
    "autolabel(rects1)\n",
    "autolabel(rects2)\n",
    "\n",
    "# Remove grid and set transparent background\n",
    "ax.grid(False)\n",
    "fig.patch.set_alpha(0.0)\n",
    "ax.patch.set_alpha(0.0)\n",
    "ax.set_facecolor('none')\n",
    "\n",
    "fig.tight_layout()\n",
    "plt.savefig('/mnt/data/output_transparent_bar.png', transparent=True)\n",
    "plt.show()"
   ],
   "metadata": {
    "collapsed": false,
    "ExecuteTime": {
     "start_time": "2024-05-30T22:18:48.753436200Z"
    }
   },
   "id": "9d73e981cdd74665"
  }
 ],
 "metadata": {
  "kernelspec": {
   "display_name": "Python 3",
   "language": "python",
   "name": "python3"
  },
  "language_info": {
   "codemirror_mode": {
    "name": "ipython",
    "version": 2
   },
   "file_extension": ".py",
   "mimetype": "text/x-python",
   "name": "python",
   "nbconvert_exporter": "python",
   "pygments_lexer": "ipython2",
   "version": "2.7.6"
  }
 },
 "nbformat": 4,
 "nbformat_minor": 5
}
